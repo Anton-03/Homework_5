{
 "cells": [
  {
   "cell_type": "markdown",
   "metadata": {},
   "source": [
    "# Задание 1"
   ]
  },
  {
   "cell_type": "code",
   "execution_count": 1,
   "metadata": {},
   "outputs": [
    {
     "name": "stdout",
     "output_type": "stream",
     "text": [
      "50\n",
      "1\n",
      "4\n",
      "9\n",
      "16\n",
      "25\n",
      "36\n",
      "49\n"
     ]
    }
   ],
   "source": [
    "N = int(input())\n",
    "i = 1\n",
    "while i**2<=N:\n",
    "    print(i**2)\n",
    "    i=i+1"
   ]
  },
  {
   "cell_type": "markdown",
   "metadata": {},
   "source": [
    "# Задание 2"
   ]
  },
  {
   "cell_type": "code",
   "execution_count": 5,
   "metadata": {},
   "outputs": [
    {
     "name": "stdout",
     "output_type": "stream",
     "text": [
      "3\n",
      "3\n"
     ]
    }
   ],
   "source": [
    "N = int(input())\n",
    "i = 2\n",
    "while N % i != 0:\n",
    "    i = i+ 1\n",
    "print(i)"
   ]
  },
  {
   "cell_type": "markdown",
   "metadata": {},
   "source": [
    "# Задание 3"
   ]
  },
  {
   "cell_type": "code",
   "execution_count": 7,
   "metadata": {},
   "outputs": [
    {
     "name": "stdout",
     "output_type": "stream",
     "text": [
      "50\n",
      "1\n",
      "2\n",
      "4\n",
      "8\n",
      "16\n",
      "32\n"
     ]
    }
   ],
   "source": [
    "N = int(input())\n",
    "i = 1\n",
    "while N>i:\n",
    "    print(i)\n",
    "    i*=2\n"
   ]
  },
  {
   "cell_type": "markdown",
   "metadata": {},
   "source": [
    "# Задание 4"
   ]
  },
  {
   "cell_type": "code",
   "execution_count": 34,
   "metadata": {},
   "outputs": [
    {
     "name": "stdout",
     "output_type": "stream",
     "text": [
      "8\n",
      "YES\n"
     ]
    }
   ],
   "source": [
    "N = int(input())\n",
    "i = 1\n",
    "while i<=N:\n",
    "    if i==N:\n",
    "        print(\"YES\")\n",
    "        break\n",
    "    i*=2\n",
    "else:\n",
    "        print(\"NO\")"
   ]
  },
  {
   "cell_type": "markdown",
   "metadata": {},
   "source": [
    "# Задание 5"
   ]
  },
  {
   "cell_type": "code",
   "execution_count": 45,
   "metadata": {},
   "outputs": [
    {
     "name": "stdout",
     "output_type": "stream",
     "text": [
      "2\n",
      "1\n"
     ]
    }
   ],
   "source": [
    "N = int(input())\n",
    "k = 0\n",
    "p = 1\n",
    "while p < N:\n",
    "    p = p * 2\n",
    "    k += 1\n",
    "print(k)"
   ]
  },
  {
   "cell_type": "markdown",
   "metadata": {},
   "source": [
    "# Задание 6"
   ]
  },
  {
   "cell_type": "code",
   "execution_count": 51,
   "metadata": {},
   "outputs": [
    {
     "name": "stdout",
     "output_type": "stream",
     "text": [
      "10\n",
      "30\n",
      "13\n"
     ]
    }
   ],
   "source": [
    "x, y = int(input()),int(input())\n",
    "p=1\n",
    "while x<=y:\n",
    "    x=x+x*0.1\n",
    "    p=p+1\n",
    "print(p)"
   ]
  },
  {
   "cell_type": "markdown",
   "metadata": {},
   "source": [
    "# Задание 7"
   ]
  },
  {
   "cell_type": "code",
   "execution_count": 71,
   "metadata": {},
   "outputs": [
    {
     "name": "stdout",
     "output_type": "stream",
     "text": [
      "2\n",
      "4\n",
      "0\n",
      "4\n"
     ]
    }
   ],
   "source": [
    "N = 0\n",
    "E = 2\n",
    "while E != 0:\n",
    "    E = int(input())\n",
    "    if E > N:\n",
    "        N = E\n",
    "print(N)"
   ]
  },
  {
   "cell_type": "markdown",
   "metadata": {},
   "source": [
    "# Задание 8"
   ]
  },
  {
   "cell_type": "code",
   "execution_count": 66,
   "metadata": {},
   "outputs": [
    {
     "name": "stdout",
     "output_type": "stream",
     "text": [
      "2\n",
      "5\n"
     ]
    }
   ],
   "source": [
    "n = int(input())\n",
    "i = 1 \n",
    "k = 0\n",
    "while i <= n:\n",
    "    k += i**2 \n",
    "    i += 1 \n",
    "print(k)"
   ]
  },
  {
   "cell_type": "markdown",
   "metadata": {},
   "source": [
    "# Задание 9"
   ]
  },
  {
   "cell_type": "code",
   "execution_count": 70,
   "metadata": {},
   "outputs": [
    {
     "name": "stdout",
     "output_type": "stream",
     "text": [
      "12\n",
      "2\n",
      "3\n",
      "4\n",
      "0\n",
      "4\n"
     ]
    }
   ],
   "source": [
    "N = 1\n",
    "kol = 0\n",
    "while N != 0:\n",
    "    N = int(input())\n",
    "    kol+=1\n",
    "print(kol-1)"
   ]
  },
  {
   "cell_type": "markdown",
   "metadata": {},
   "source": [
    "# Задание 10"
   ]
  },
  {
   "cell_type": "code",
   "execution_count": 76,
   "metadata": {},
   "outputs": [
    {
     "name": "stdout",
     "output_type": "stream",
     "text": [
      "1\n",
      "2\n",
      "3\n",
      "0\n",
      "6\n"
     ]
    }
   ],
   "source": [
    "N = 1\n",
    "sum = 0\n",
    "while N != 0:\n",
    "    N = int(input())\n",
    "    sum += N\n",
    "print(sum)"
   ]
  },
  {
   "cell_type": "markdown",
   "metadata": {},
   "source": [
    "# Задание 11"
   ]
  },
  {
   "cell_type": "code",
   "execution_count": 86,
   "metadata": {},
   "outputs": [
    {
     "name": "stdout",
     "output_type": "stream",
     "text": [
      "1\n",
      "7\n",
      "9\n",
      "0\n",
      "5.666666666666667\n"
     ]
    }
   ],
   "source": [
    "sum = 0\n",
    "kol = 0\n",
    "E = int(input())\n",
    "while E != 0:\n",
    "    sum += E\n",
    "    kol += 1\n",
    "    E = int(input())\n",
    "print(sum / kol)"
   ]
  },
  {
   "cell_type": "markdown",
   "metadata": {},
   "source": [
    "# Задание 12"
   ]
  },
  {
   "cell_type": "code",
   "execution_count": 88,
   "metadata": {},
   "outputs": [
    {
     "name": "stdout",
     "output_type": "stream",
     "text": [
      "2\n",
      "1\n",
      "4\n",
      "0\n",
      "2\n"
     ]
    }
   ],
   "source": [
    "kol = 0\n",
    "E = int(input())\n",
    "while E != 0:\n",
    "    if E%2==0:\n",
    "        kol += 1\n",
    "    E = int(input())\n",
    "print(kol)"
   ]
  },
  {
   "cell_type": "markdown",
   "metadata": {},
   "source": [
    "# Задание 13"
   ]
  },
  {
   "cell_type": "code",
   "execution_count": 95,
   "metadata": {},
   "outputs": [
    {
     "name": "stdout",
     "output_type": "stream",
     "text": [
      "1\n",
      "2\n",
      "3\n",
      "4\n",
      "5\n",
      "0\n",
      "4\n"
     ]
    }
   ],
   "source": [
    "kol = 0\n",
    "E = int(input())\n",
    "while E != 0:\n",
    "        k = E\n",
    "        E = int(input())\n",
    "        if E>k:\n",
    "            kol+=1\n",
    "print(kol)"
   ]
  },
  {
   "cell_type": "markdown",
   "metadata": {},
   "source": [
    "# Задание 14"
   ]
  },
  {
   "cell_type": "code",
   "execution_count": 102,
   "metadata": {},
   "outputs": [
    {
     "name": "stdout",
     "output_type": "stream",
     "text": [
      "1\n",
      "2\n",
      "3\n",
      "4\n",
      "5\n",
      "0\n",
      "4\n"
     ]
    }
   ],
   "source": [
    "N,p = int(input()),int(input())\n",
    "if N < p:\n",
    "    N, p = p, N\n",
    "E = int(input())\n",
    "while E != 0:\n",
    "    if E > N:\n",
    "        p, N = N, E\n",
    "    elif E > p:\n",
    "        p = E\n",
    "    E = int(input())\n",
    "print(p)"
   ]
  },
  {
   "cell_type": "markdown",
   "metadata": {},
   "source": [
    "# Задание 15"
   ]
  },
  {
   "cell_type": "code",
   "execution_count": 113,
   "metadata": {},
   "outputs": [
    {
     "name": "stdout",
     "output_type": "stream",
     "text": [
      "1\n",
      "3\n",
      "1\n",
      "3\n",
      "0\n",
      "2\n"
     ]
    }
   ],
   "source": [
    "max = 0\n",
    "kol = 0\n",
    "E = -1\n",
    "while E != 0:\n",
    "    E = int(input())\n",
    "    if E > max:\n",
    "        max, kol = E, 1\n",
    "    elif E == max:\n",
    "        kol += 1       \n",
    "print(kol)"
   ]
  },
  {
   "cell_type": "markdown",
   "metadata": {},
   "source": [
    "# Задание 16"
   ]
  },
  {
   "cell_type": "code",
   "execution_count": 119,
   "metadata": {},
   "outputs": [
    {
     "name": "stdout",
     "output_type": "stream",
     "text": [
      "6\n",
      "8\n"
     ]
    }
   ],
   "source": [
    "n = int(input())\n",
    "if n == 0:\n",
    "    print(0)\n",
    "else:\n",
    "    x, y = 0, 1\n",
    "    for i in range(2, n + 1):\n",
    "        x, y = y, x + y\n",
    "    print(y)"
   ]
  },
  {
   "cell_type": "markdown",
   "metadata": {},
   "source": [
    "# Задание 17"
   ]
  },
  {
   "cell_type": "code",
   "execution_count": 121,
   "metadata": {},
   "outputs": [
    {
     "name": "stdout",
     "output_type": "stream",
     "text": [
      "10\n",
      "-1\n"
     ]
    }
   ],
   "source": [
    "A = int(input())\n",
    "if A == 0:\n",
    "    print(0)\n",
    "else:\n",
    "    x, y = 0, 1\n",
    "    n = 1\n",
    "    while y<= A:\n",
    "        if y == A:\n",
    "            print(n)\n",
    "            break\n",
    "        x, y = y, x + y\n",
    "        n += 1\n",
    "    else:\n",
    "        print(-1)"
   ]
  },
  {
   "cell_type": "markdown",
   "metadata": {},
   "source": [
    "# Задание 18"
   ]
  },
  {
   "cell_type": "code",
   "execution_count": 1,
   "metadata": {},
   "outputs": [
    {
     "name": "stdout",
     "output_type": "stream",
     "text": [
      "179\n",
      "20\n",
      "-1\n",
      ":2\n",
      "-1\n",
      ":2\n",
      ":2\n",
      "-1\n",
      "-1\n"
     ]
    }
   ],
   "source": [
    "n = int(input())\n",
    "i = int(input())\n",
    "while n!=i:\n",
    "    if n%2==0 and n//2>=i :\n",
    "        n = n//2\n",
    "        print(':2')\n",
    "    else:\n",
    "        n=n-1\n",
    "        print('-1')"
   ]
  },
  {
   "cell_type": "markdown",
   "metadata": {},
   "source": [
    "# Задание 19"
   ]
  },
  {
   "cell_type": "code",
   "execution_count": 9,
   "metadata": {},
   "outputs": [
    {
     "name": "stdout",
     "output_type": "stream",
     "text": [
      "2345\n",
      "5432\n"
     ]
    }
   ],
   "source": [
    "n = input()\n",
    "p = n[::-1]\n",
    "print(p)"
   ]
  },
  {
   "cell_type": "markdown",
   "metadata": {},
   "source": [
    "# Задание 20"
   ]
  },
  {
   "cell_type": "code",
   "execution_count": 13,
   "metadata": {},
   "outputs": [
    {
     "name": "stdout",
     "output_type": "stream",
     "text": [
      "10\n",
      "9\n"
     ]
    }
   ],
   "source": [
    "K = int(input())\n",
    "p = 0\n",
    "r = 0\n",
    "for p in range(1, K+1):\n",
    "    Number = p\n",
    "    D = 0 \n",
    "    while Number > 0:\n",
    "        D = D * 10 + Number % 10\n",
    "        Number = Number // 10\n",
    "    if p == D:\n",
    "        r += 1\n",
    "print(r)"
   ]
  },
  {
   "cell_type": "markdown",
   "metadata": {},
   "source": [
    "# Задание 21"
   ]
  },
  {
   "cell_type": "code",
   "execution_count": 8,
   "metadata": {},
   "outputs": [
    {
     "name": "stdout",
     "output_type": "stream",
     "text": [
      "1\n",
      "7\n",
      "7\n",
      "9\n",
      "1\n",
      "0\n",
      "2\n"
     ]
    }
   ],
   "source": [
    "p=int(input())\n",
    "c=1\n",
    "b=0\n",
    "while p!=0:\n",
    "    v=int(input())\n",
    "    p,v=v,p\n",
    "    if v==p:\n",
    "        c+=1\n",
    "    if c>b:\n",
    "        b=c\n",
    "    if p!=v:\n",
    "        c=1\n",
    "print(b)"
   ]
  },
  {
   "cell_type": "markdown",
   "metadata": {},
   "source": [
    "# Задание 22"
   ]
  },
  {
   "cell_type": "code",
   "execution_count": 21,
   "metadata": {},
   "outputs": [
    {
     "name": "stdout",
     "output_type": "stream",
     "text": [
      "1\n",
      "7\n",
      "7\n",
      "9\n",
      "1\n",
      "0\n",
      "2\n"
     ]
    }
   ],
   "source": [
    "x1,x2=int(input()), int(input())\n",
    "max, n = 1, 1\n",
    "while 0==0:\n",
    "    if x2==0 or x1==0:\n",
    "        break    \n",
    "    while x1>x2:\n",
    "        if x2==0:\n",
    "            break        \n",
    "        n+=1\n",
    "        if n>max:\n",
    "            max=n\n",
    "            x1=x2\n",
    "            x2=int(input())\n",
    "        else:\n",
    "            x1=x2\n",
    "            x2=int(input())\n",
    "    n=1\n",
    "    while x1<x2:\n",
    "        n+=1\n",
    "        if n>max:\n",
    "            max=n\n",
    "            x1=x2\n",
    "            x2=int(input())\n",
    "        else:\n",
    "            x1=x2\n",
    "            x2=int(input())\n",
    "    n=1\n",
    "    while x1==x2:\n",
    "        n=1\n",
    "        x1=x2\n",
    "        x2=int(input())\n",
    "print(max)"
   ]
  },
  {
   "cell_type": "markdown",
   "metadata": {},
   "source": [
    "# Задание 23"
   ]
  },
  {
   "cell_type": "code",
   "execution_count": 20,
   "metadata": {},
   "outputs": [
    {
     "name": "stdout",
     "output_type": "stream",
     "text": [
      "1\n",
      "2\n",
      "1\n",
      "1\n",
      "2\n",
      "1\n",
      "2\n",
      "1\n",
      "0\n",
      "2\n"
     ]
    }
   ],
   "source": [
    "x, R= 1, 1\n",
    "i, D, E = 0, 0, 0\n",
    "m = 0\n",
    "g = 0\n",
    "q = 1000000\n",
    "while R != 0:\n",
    "    i += 1\n",
    "    E = D\n",
    "    D = R\n",
    "    R = int(input())\n",
    "    if i > 2 and D > R and D > E and R != 0:\n",
    "        g = m\n",
    "        m =  i\n",
    "        if (m > 0) and (g > 0) and (m - g < q):\n",
    "            q = m - g\n",
    "if q == 1000000: \n",
    "    q = 0\n",
    "print(q)"
   ]
  },
  {
   "cell_type": "markdown",
   "metadata": {},
   "source": [
    "# Задание 24"
   ]
  },
  {
   "cell_type": "code",
   "execution_count": 28,
   "metadata": {},
   "outputs": [
    {
     "name": "stdout",
     "output_type": "stream",
     "text": [
      "5\n",
      "12\n",
      "13\n",
      "30.0\n"
     ]
    }
   ],
   "source": [
    "a,b,c = int(input()),int(input()),int(input())\n",
    "p = (a+b+c)/2\n",
    "S = (p*(p-a)*(p-b)*(p-c))**0.5\n",
    "print(S)"
   ]
  }
 ],
 "metadata": {
  "kernelspec": {
   "display_name": "Python 3",
   "language": "python",
   "name": "python3"
  },
  "language_info": {
   "codemirror_mode": {
    "name": "ipython",
    "version": 3
   },
   "file_extension": ".py",
   "mimetype": "text/x-python",
   "name": "python",
   "nbconvert_exporter": "python",
   "pygments_lexer": "ipython3",
   "version": "3.7.6"
  }
 },
 "nbformat": 4,
 "nbformat_minor": 4
}
